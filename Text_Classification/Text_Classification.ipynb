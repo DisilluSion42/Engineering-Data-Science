{
 "cells": [
  {
   "cell_type": "markdown",
   "id": "21239d5f",
   "metadata": {},
   "source": [
    "<h1><center><br> Text Classification with Naive Bayes </center></h1>"
   ]
  },
  {
   "cell_type": "code",
   "execution_count": 1,
   "id": "c2f17987",
   "metadata": {},
   "outputs": [],
   "source": [
    "import numpy as np\n",
    "import matplotlib.pyplot as plt\n",
    "import pickle"
   ]
  },
  {
   "cell_type": "markdown",
   "id": "475e0335",
   "metadata": {},
   "source": [
    "The dataset that we will work with is a selection of posts from scikit-learn's ['20 newsgroups' dataset](https://scikit-learn.org/stable/datasets/real_world.html#newsgroups-dataset). We will be working with just two of the 20 newsgroup categories:  'comp.graphics' (computer graphics) and 'rec.motorcycles' (recreation motorcycles). \n",
    "\n",
    "The cell below loads the data from a pickle file. The varaibles are:\n",
    "\n",
    "+ `Xtrain`: A list of documents used for training\n",
    "+ `ytrain`: The category of each training document\n",
    "+ `Xtest`: A list of documents used for testing\n",
    "+ `ytest`: The category of each testing document\n",
    "+ `categories`: The set of all categories\n",
    "+ `vocabulary`: The feature set, ie words used in the model"
   ]
  },
  {
   "cell_type": "code",
   "execution_count": 3,
   "id": "f833154e",
   "metadata": {},
   "outputs": [],
   "source": [
    "with open('Text_Classification.pickle','rb') as file:\n",
    "    Xtrain, ytrain, Xtest, ytest, categories, vocabulary = pickle.load(file)\n",
    "    \n",
    "N = Xtrain.shape[0]   # number of documents in the training corpus\n",
    "K = len(categories)   # number of document categories (classes)\n",
    "D = len(vocabulary)   # number of words in the vocabulary (features)"
   ]
  },
  {
   "cell_type": "markdown",
   "id": "6dc8d2f8",
   "metadata": {},
   "source": [
    "# 1. Find the number of training documents for each category"
   ]
  },
  {
   "cell_type": "code",
   "execution_count": 4,
   "id": "21bdfcb2",
   "metadata": {},
   "outputs": [],
   "source": [
    "docs_per_category = dict.fromkeys(categories, 0)\n",
    "\n",
    "docs_per_category['comp.graphics'] = np.count_nonzero(ytrain == 'comp.graphics')\n",
    "docs_per_category['rec.motorcycles'] = np.count_nonzero(ytrain == 'rec.motorcycles')"
   ]
  },
  {
   "cell_type": "markdown",
   "id": "49e4fcf0",
   "metadata": {},
   "source": [
    "# 2. Create a bag-of-words representation for each document\n",
    "\n",
    "Our Naive Bayes algorithm will operate on a bag-of-words representation of each document. The first step is to write the `to_bow` method. \n",
    "\n",
    "The argument for this method is `doc`, which is an element of `X` (ie a string). It should return a `set` with the unique words that appear in both the document and the vocabulary. "
   ]
  },
  {
   "cell_type": "code",
   "execution_count": 5,
   "id": "e05827e4",
   "metadata": {},
   "outputs": [],
   "source": [
    "def to_bow(doc):\n",
    "    bow = set()\n",
    "    \n",
    "    # Split `doc` at spaces using the the string's `split` method. Obtain a list.                             \n",
    "    bow_list = doc.split()\n",
    "    \n",
    "    # Keep only unique words from the list, by casting it as a set. \n",
    "    bow_set = set(bow_list)\n",
    "    \n",
    "    # From that set, keep only the ones that are present in the vocabulary.\n",
    "    bow = bow_set.intersection(vocabulary)\n",
    "    \n",
    "    return bow"
   ]
  },
  {
   "cell_type": "code",
   "execution_count": 6,
   "id": "520effe0",
   "metadata": {},
   "outputs": [],
   "source": [
    "Xtrain_bow = np.array([to_bow(doc) for doc in Xtrain])"
   ]
  },
  {
   "cell_type": "markdown",
   "id": "f3f8082a",
   "metadata": {},
   "source": [
    "# 3. Compute the document count for each word in each category\n",
    "\n",
    "To estimate probabilities for Naive Bayes, we will need to know, for each category and each word, the number of documents of the category that contain the word. We will implement the `find_doc_counts_per_word_category` function."
   ]
  },
  {
   "cell_type": "code",
   "execution_count": 7,
   "id": "09438ba9",
   "metadata": {},
   "outputs": [],
   "source": [
    "def find_doc_counts_per_word_category(categories,vocabulary,ytrain,Xtrain_bow):\n",
    "\n",
    "    # Initialize the dictionary\n",
    "    doc_counters = dict.fromkeys(categories) \n",
    "    for category in categories:\n",
    "        doc_counters[category]  = dict.fromkeys(vocabulary,0)\n",
    "\n",
    "    # Loop through categories and documents in that category. \n",
    "    # For each word in the vocabulary that is also in the document, increment the corresponding counter by 1. \n",
    "    for category in categories:\n",
    "        \n",
    "        \n",
    "        # Filter Xtrain_bow and keep only the documents of this category\n",
    "        docs_in_category = Xtrain_bow[ytrain == category]\n",
    "\n",
    "        # For each document in the category, increment the appropriate counters\n",
    "        for doc in docs_in_category:\n",
    "            intsct = doc.intersection(vocabulary)\n",
    "            if len(intsct) != 0:\n",
    "                for word in intsct:\n",
    "                    doc_counters[category][word] += 1\n",
    "                    \n",
    "    return doc_counters"
   ]
  },
  {
   "cell_type": "code",
   "execution_count": 8,
   "id": "e14d6206",
   "metadata": {},
   "outputs": [],
   "source": [
    "doccount_per_cat_and_word = find_doc_counts_per_word_category(categories,vocabulary,ytrain,Xtrain_bow)"
   ]
  },
  {
   "cell_type": "markdown",
   "id": "1ab0636d",
   "metadata": {},
   "source": [
    "# 4. Find word frequencies per category\n",
    "\n",
    "We will write the `compute_word_freq` function. \n",
    "\n",
    "The argument for this method is the Laplace smoothing factor `alpha`. It also uses global variables, including `doccount_per_cat_and_word`.\n",
    "\n",
    "For each category and word, we will compute the Laplace-smoothed ratio of the number of documents containing the word, to the total number of documents in the category. \n",
    "\n",
    "Steps:\n",
    "\n",
    "1. For each category and word in the vocabulary, compute $\\rho_{d,k}$  as\n",
    "\n",
    "$$\\rho_{d,k} = \\frac{(\\text{# documents of category $k$ that contain word $d$}) + \\alpha}{(\\text{# documents of category $k$})+\\alpha K}$$\n",
    "\n",
    "Store it in `wordfreq[category][word]`.\n",
    "\n",
    "2. For each category, compute $\\rho_k$  as\n",
    "    \n",
    "$$\\rho_k = \\frac{\\text{# documents of category $k$}}{\\text{Total # documents}}$$\n",
    "\n",
    "Store it in `catfreq[category]`."
   ]
  },
  {
   "cell_type": "code",
   "execution_count": 9,
   "id": "0cd3b370",
   "metadata": {},
   "outputs": [],
   "source": [
    "def compute_word_freq(alpha):\n",
    "\n",
    "    D = len(vocabulary)\n",
    "\n",
    "    # Initialize `wordlogfreq` and `wordlogfreq`\n",
    "    wordfreq = dict.fromkeys(categories)\n",
    "    for category in categories:\n",
    "        wordfreq[category] = dict.fromkeys(vocabulary, 0)\n",
    "    ndocs = dict.fromkeys(categories)\n",
    "    catfreq = dict.fromkeys(categories)\n",
    "    \n",
    "    # Steps 1 and, compute wordlogfreq and doclogfreq\n",
    "    for category in categories:\n",
    "        ndocs[category] = docs_per_category[category]\n",
    "        \n",
    "        for word in vocabulary:\n",
    "            wordfreq[category][word] += (doccount_per_cat_and_word[category][word] + alpha) / (ndocs[category] + alpha * K)\n",
    "    \n",
    "        catfreq[category] = ndocs[category] / N\n",
    "    \n",
    "    return wordfreq, catfreq"
   ]
  },
  {
   "cell_type": "code",
   "execution_count": 10,
   "id": "62736735",
   "metadata": {},
   "outputs": [],
   "source": [
    "wordfreq, catfreq = compute_word_freq(0.01)"
   ]
  },
  {
   "cell_type": "markdown",
   "id": "8ede19f1",
   "metadata": {},
   "source": [
    "# 5. Write the Naive Bayes prediction function.\n",
    "\n",
    "Now we are computing the Naive Bayes prediction of the category for the given test document `xtest`. \n",
    "\n",
    "The arguments for this method are \n",
    "+ xtest: a single test document as a string.\n",
    "+ wordfreq, catfreq: the ratios computed in the previous step (with $\\alpha=0.1$)\n",
    "\n",
    "The steps for are:\n",
    "1. Find the BOW representation of `xtest`.\n",
    "\n",
    "2. Use the dictionary `score_cat` to store the score for each of the categories.\n",
    "\n",
    "3. Loop through categories, for each one compute its score with\n",
    "\n",
    "$$\\log\\rho_k+ \\sum_{d:\\:x_d=1} \\log\\rho_{d,k} + \\sum_{d:\\:x_d=0} \\log(1-\\rho_{d,k})$$\n",
    "\n",
    "Here $x_d$ is the $d$'th word in `xtest`\n",
    "\n",
    "4. Return the category with the highest score. "
   ]
  },
  {
   "cell_type": "code",
   "execution_count": 11,
   "id": "4b153b6f",
   "metadata": {},
   "outputs": [],
   "source": [
    "def predict(Xtest, wordfreq, catfreq):\n",
    "\n",
    "    # 1. Find the BOW representation of Xtest.\n",
    "#     Xtest_bow = np.array([to_bow(doc) for doc in Xtest])\n",
    "#     for i in range(len(Xtest_bow) - 1):\n",
    "#         a = Xtest_bow[i].union(Xtest_bow[i + 1])\n",
    "    Xtest_bow = to_bow(Xtest)\n",
    "\n",
    "    # 2. Use a dictionary to store the score for each of the categories.\n",
    "    score_cat = dict.fromkeys(categories,0)\n",
    "\n",
    "    # 3. Loop through categories, for each one compute its score, and save it in score_cat.\n",
    "    for category in categories:\n",
    "        score_cat[category] += np.log(catfreq[category])\n",
    "        for word in vocabulary:\n",
    "            if word in Xtest_bow:\n",
    "                score_cat[category] += np.log(wordfreq[category][word])\n",
    "            else:\n",
    "                score_cat[category] += np.log(1 - wordfreq[category][word])\n",
    "\n",
    "    # 4. Return the category with the highest score.\n",
    "    return max(score_cat, key=score_cat.get)"
   ]
  },
  {
   "cell_type": "markdown",
   "id": "9a9469a4",
   "metadata": {},
   "source": [
    "# 6. Compute accuracy\n",
    "\n",
    "Accuracy is defined as the number of correct predictions, divided by the total number of predictions. "
   ]
  },
  {
   "cell_type": "code",
   "execution_count": 12,
   "id": "8c9de17d",
   "metadata": {},
   "outputs": [],
   "source": [
    "def compute_accuracy(Xin, yin, wordfreq, catfreq):\n",
    "\n",
    "    correct = 0\n",
    "    \n",
    "    # count the number of correct predictions\n",
    "    for i in range(len(Xin)):\n",
    "        if predict(Xin[i], wordfreq, catfreq) == yin[i]:\n",
    "            correct += 1\n",
    "        \n",
    "    return correct / len(Xin)"
   ]
  },
  {
   "cell_type": "markdown",
   "id": "82cf7e08",
   "metadata": {},
   "source": [
    "# 7. Compute the training and testing errors for a range of $\\alpha$"
   ]
  },
  {
   "cell_type": "markdown",
   "id": "b4b81908",
   "metadata": {},
   "source": [
    "### 7.1. Train the model and compute its test accuracy for logarithmically spaced values of $\\alpha$ ranging from $10^{-5}$ to $10^1$\n",
    "\n",
    "Here 'training the model' means computing the Laplace-smoothed document frequencies with `compute_word_freq`. We will do this for a range of $\\alpha$'s and store their corresponding accuracies. "
   ]
  },
  {
   "cell_type": "code",
   "execution_count": 14,
   "id": "21b3c73e",
   "metadata": {},
   "outputs": [],
   "source": [
    "alphas = np.logspace(-5,1,20)\n",
    "acc = np.empty(len(alphas))\n",
    "for i in range(len(alphas)):\n",
    "    wordfreq, catfreq = compute_word_freq(alphas[i])\n",
    "    \n",
    "    acc[i] = compute_accuracy(Xtest, ytest, wordfreq, catfreq)"
   ]
  },
  {
   "cell_type": "markdown",
   "id": "6ef3b70c",
   "metadata": {},
   "source": [
    "### 7.2. Plot the accuracies as a function of $\\alpha$ using `plt.semilogx`"
   ]
  },
  {
   "cell_type": "code",
   "execution_count": 15,
   "id": "6015bc1b",
   "metadata": {
    "scrolled": true
   },
   "outputs": [
    {
     "data": {
      "image/png": "[encoded data removed]",
      "text/plain": [
       "<Figure size 432x288 with 1 Axes>"
      ]
     },
     "metadata": {
      "needs_background": "light"
     },
     "output_type": "display_data"
    }
   ],
   "source": [
    "plt.figure()\n",
    "\n",
    "plt.semilogx(alphas, acc)\n",
    "\n",
    "plt.show()"
   ]
  },
  {
   "cell_type": "markdown",
   "id": "04943be1",
   "metadata": {},
   "source": [
    "### 7.3. Find the optimal $\\alpha$ and its corresponding accuracy"
   ]
  },
  {
   "cell_type": "code",
   "execution_count": 16,
   "id": "f0d4a6ed",
   "metadata": {},
   "outputs": [],
   "source": [
    "best_acc = acc[np.argmax(acc)]\n",
    "best_alpha = alphas[np.argmax(acc)]"
   ]
  }
 ],
 "metadata": {
  "kernelspec": {
   "display_name": "Python 3 (ipykernel)",
   "language": "python",
   "name": "python3"
  },
  "language_info": {
   "codemirror_mode": {
    "name": "ipython",
    "version": 3
   },
   "file_extension": ".py",
   "mimetype": "text/x-python",
   "name": "python",
   "nbconvert_exporter": "python",
   "pygments_lexer": "ipython3",
   "version": "3.9.10"
  }
 },
 "nbformat": 4,
 "nbformat_minor": 5
}
