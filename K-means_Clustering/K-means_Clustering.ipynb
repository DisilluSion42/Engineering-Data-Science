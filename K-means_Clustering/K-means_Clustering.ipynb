{
 "cells": [
  {
   "cell_type": "markdown",
   "id": "8d1d6992",
   "metadata": {},
   "source": [
    "---\n",
    "\n",
    "<h1><center><br> K-means clustering </center></h1>\n",
    "\n",
    "---"
   ]
  },
  {
   "cell_type": "code",
   "execution_count": 1,
   "id": "d8a1b20a",
   "metadata": {},
   "outputs": [],
   "source": [
    "result = {}"
   ]
  },
  {
   "cell_type": "code",
   "execution_count": 14,
   "id": "ffe6bff8",
   "metadata": {},
   "outputs": [],
   "source": [
    "import numpy as np\n",
    "import matplotlib.pyplot as plt\n",
    "import pickle\n",
    "import scipy.stats as stats"
   ]
  },
  {
   "cell_type": "markdown",
   "id": "249c15f9",
   "metadata": {},
   "source": [
    "# 1) Load the data\n",
    "Use `pickle.load` to load `Data.pickle`. This file contains a single matrix called `X`. Use variables `N` and `D` for the number of rows (samples) and columns (features) respectively. "
   ]
  },
  {
   "cell_type": "code",
   "execution_count": 15,
   "id": "e91d1404",
   "metadata": {},
   "outputs": [],
   "source": [
    "with open('Data.pickle','rb') as file:\n",
    "    X = pickle.load(file)\n",
    "    \n",
    "N = X.shape[0]\n",
    "D = X.shape[1]"
   ]
  },
  {
   "cell_type": "markdown",
   "id": "2bc52794",
   "metadata": {},
   "source": [
    "# 2) Scatter plot\n",
    "Create a scatter plot with the first column along the x-axis and the second column along the y-axis. We will use `plt.axis('equal')` to force the two axes to have the same scale. This is important for correct visualization of the Euclidean distances between points. "
   ]
  },
  {
   "cell_type": "code",
   "execution_count": 16,
   "id": "f0537ad4",
   "metadata": {
    "scrolled": true
   },
   "outputs": [
    {
     "data": {
      "image/png": "[encoded data removed]",
      "text/plain": [
       "<Figure size 360x360 with 1 Axes>"
      ]
     },
     "metadata": {
      "needs_background": "light"
     },
     "output_type": "display_data"
    }
   ],
   "source": [
    "fig2 = plt.figure(figsize=(5,5))\n",
    "\n",
    "plt.scatter(X[:, 0], X[:, 1])\n",
    "plt.axis('equal')\n",
    "\n",
    "plt.show()"
   ]
  },
  {
   "cell_type": "markdown",
   "id": "bc5f0929",
   "metadata": {},
   "source": [
    "# 3) Initialize centroids\n",
    "We will write a function that takes the number of centroids `K` and the data matrix `X` and returns `K` randomly placed centroids. The centroids should be selected according to a uniform distribution that spans a box fitted to the data. The return value should be a numpy array with shape `(K,D)` where `D` is the number of columns in X. "
   ]
  },
  {
   "cell_type": "code",
   "execution_count": 17,
   "id": "64d4d8c7",
   "metadata": {},
   "outputs": [],
   "source": [
    "result['fig2'] = fig2"
   ]
  },
  {
   "cell_type": "code",
   "execution_count": 22,
   "id": "9dd2eac2",
   "metadata": {},
   "outputs": [],
   "source": [
    "def initialize_centroids(K,X):\n",
    "    \n",
    "    D = X.shape[1]\n",
    "    \n",
    "    # Define lower and upper bounds of uniform distribution by the min and max values in the dataset\n",
    "    uL = np.min(X, axis = 0)\n",
    "    uU = np.max(X, axis = 0)\n",
    "    \n",
    "    # Generate K random centroids from the defined uniform distribution\n",
    "    C = stats.uniform.rvs(uL, uU - uL, (K, D))\n",
    "    \n",
    "    return C"
   ]
  },
  {
   "cell_type": "markdown",
   "id": "7d16f873",
   "metadata": {},
   "source": [
    "# 4) Compute the assignment for given centroids\n",
    "We will write a function that takes the data matrix and centroid locations, and returns an assignment matrix `r`. `r` should be a numpy array with shape `(N,K)`. Each row of `r` should contain `K-1` `False` values and one `True` value in the position corresponding to the centroid that is nearest to that data point (Euclidean distance). "
   ]
  },
  {
   "cell_type": "code",
   "execution_count": 23,
   "id": "490b9fa7",
   "metadata": {},
   "outputs": [],
   "source": [
    "result['C3'] = initialize_centroids(3,X)"
   ]
  },
  {
   "cell_type": "code",
   "execution_count": 24,
   "id": "318725fc",
   "metadata": {},
   "outputs": [],
   "source": [
    "def assign_samples_to_nearest_centroid(X,C):\n",
    "    N = X.shape[0]\n",
    "    K = C.shape[0]\n",
    "    r = np.zeros((N, K), dtype = 'bool')\n",
    "    \n",
    "    check = False\n",
    "    while not check == True :\n",
    "        for n in range(N): \n",
    "            dist = np.linalg.norm(X[n] - C, axis = 1)\n",
    "            r[n, np.argmin(dist)] = True\n",
    "\n",
    "        # Check if the assignment is valid\n",
    "        if not np.any(r, axis = 0).all() == True:\n",
    "            check = False\n",
    "            C = initialize_centroids(K,X)\n",
    "        else:\n",
    "            check = True\n",
    "                \n",
    "    \n",
    "    return r"
   ]
  },
  {
   "attachments": {},
   "cell_type": "markdown",
   "id": "be32df09",
   "metadata": {},
   "source": [
    "# 5) Plot data, centroids, assignment\n",
    "We will write a function that takes the data matrix, a set of centroids, and an assignment matrix and creates a scatter plot similar to the one shown here. The centroids should be indicated with a large dot, and the data samples should be color-coded according to their cluster membership. "
   ]
  },
  {
   "cell_type": "code",
   "execution_count": 25,
   "id": "3a680ce9",
   "metadata": {},
   "outputs": [],
   "source": [
    "result['r4'] = assign_samples_to_nearest_centroid(X,result['C3'])"
   ]
  },
  {
   "cell_type": "code",
   "execution_count": 26,
   "id": "ee58631f",
   "metadata": {},
   "outputs": [],
   "source": [
    "def plot_scatter(X, C, r):\n",
    "    K = r.shape[1]\n",
    "    fig = plt.figure(figsize=(5,5))\n",
    "    \n",
    "    for k in range(K): \n",
    "        plt.scatter(X[r[:, k], 0], X[r[:, k], 1], 20)\n",
    "    \n",
    "    plt.scatter(C[:, 0], C[:, 1], 100)\n",
    "    \n",
    "    plt.axis('equal')\n",
    "    \n",
    "    return fig"
   ]
  },
  {
   "cell_type": "code",
   "execution_count": 27,
   "id": "2d63a996",
   "metadata": {},
   "outputs": [
    {
     "data": {
      "image/png": "[encoded data removed]",
      "text/plain": [
       "<Figure size 360x360 with 1 Axes>"
      ]
     },
     "metadata": {
      "needs_background": "light"
     },
     "output_type": "display_data"
    }
   ],
   "source": [
    "result['fig5'] = plot_scatter(X, result['C3'], result['r4'])"
   ]
  },
  {
   "cell_type": "markdown",
   "id": "bed3c565",
   "metadata": {},
   "source": [
    "# 6) Compute the centroids for a given assignment\n",
    "We will write a function that takes the assignment and the data matrix and returns centroids placed at the mean of each cluster. The return value should be a numpy array with shape `(K,D)`."
   ]
  },
  {
   "cell_type": "code",
   "execution_count": 28,
   "id": "fe53f2f7",
   "metadata": {},
   "outputs": [],
   "source": [
    "def place_centroids(r, X):\n",
    "    K = r.shape[1]\n",
    "    D = X.shape[1]\n",
    "    C = np.empty((K,D))\n",
    "    \n",
    "    for k in range(K): \n",
    "        C[k, :] = np.mean(X[r[:, k]], axis = 0)\n",
    "    \n",
    "    return C"
   ]
  },
  {
   "cell_type": "markdown",
   "id": "2fe85937",
   "metadata": {},
   "source": [
    "# 7) Code simple k-means\n",
    "Now we will use some of the functions we've developed to code the full k-means algorithm. "
   ]
  },
  {
   "cell_type": "code",
   "execution_count": 37,
   "id": "8f94b5fd",
   "metadata": {},
   "outputs": [],
   "source": [
    "result['C6'] = place_centroids(result['r4'], X)"
   ]
  },
  {
   "cell_type": "code",
   "execution_count": 38,
   "id": "8bba0755",
   "metadata": {},
   "outputs": [],
   "source": [
    "def run_kmeans(X,C):\n",
    "\n",
    "    done = False\n",
    "    first = True\n",
    "    \n",
    "    while not done:\n",
    "\n",
    "        r = assign_samples_to_nearest_centroid(X,C)\n",
    "        C = place_centroids(r, X)\n",
    "\n",
    "        if first == False and np.all(r == rold): \n",
    "            break\n",
    "            \n",
    "        rold = r\n",
    "        first = False\n",
    "\n",
    "    return C, r"
   ]
  },
  {
   "cell_type": "code",
   "execution_count": 39,
   "id": "09b8ffc8",
   "metadata": {},
   "outputs": [],
   "source": [
    "result['kmeans7'] = run_kmeans(X,result['C3'])"
   ]
  },
  {
   "cell_type": "markdown",
   "id": "6d3b6abb",
   "metadata": {},
   "source": [
    "# 8) Evaluate the cost function \n",
    "We will write a functionthat evaluates the intertia for a given data matrix, centroid placement, and assignment matrix. The result is a scalar value. "
   ]
  },
  {
   "cell_type": "code",
   "execution_count": 40,
   "id": "8e90e43e",
   "metadata": {},
   "outputs": [],
   "source": [
    "def eval_cost(X,C,r):\n",
    "    K = r.shape[1]\n",
    "    \n",
    "    cost = 0.0\n",
    "    for k in range(K):\n",
    "        dist = np.linalg.norm(X[r[:, k], :] - C[k, :], axis = 1)\n",
    "        cost = cost + np.sum(dist**2)\n",
    "    \n",
    "    return cost"
   ]
  },
  {
   "cell_type": "code",
   "execution_count": 41,
   "id": "fdcb797f",
   "metadata": {},
   "outputs": [],
   "source": [
    "result['cost8'] = eval_cost(X,result['C3'],result['r4'])"
   ]
  },
  {
   "cell_type": "markdown",
   "id": "4ad7dc0f",
   "metadata": {},
   "source": [
    "# 9) Ensemble run\n",
    "We will write a function that runs kmeans `ensemblesize` times, each with a different initial centroid placement. These initial placements should be chosen with `initialize_centroids(K,X)`. The function should return the single run with the lowest cost. Results should be returned in a **dictionary** with keys `('C','r','cost')`. `C` are the best centroids, `r` is the best assignment, and `cost` is the corresponding cost. "
   ]
  },
  {
   "cell_type": "code",
   "execution_count": 35,
   "id": "af323e60",
   "metadata": {},
   "outputs": [],
   "source": [
    "def ensemble_run(K,X,ensemblesize):\n",
    "    best_run = {'C':None,'r':None,'cost':None}\n",
    "    for e in range(ensemblesize):\n",
    "        \n",
    "        C = initialize_centroids(K,X)\n",
    "        C, r = run_kmeans(X,C)\n",
    "        cost = eval_cost(X,C,r)\n",
    "        \n",
    "        if best_run['cost'] == None:\n",
    "            best_run['C'] = C\n",
    "            best_run['r'] = r\n",
    "            best_run['cost'] = cost\n",
    "        else:\n",
    "            if cost < best_run['cost']:\n",
    "                best_run['C'] = C\n",
    "                best_run['r'] = r\n",
    "                best_run['cost'] = cost\n",
    "    \n",
    "    return best_run"
   ]
  },
  {
   "cell_type": "code",
   "execution_count": 36,
   "id": "561898e3",
   "metadata": {},
   "outputs": [],
   "source": [
    "result['ens9'] = ensemble_run(3,X,100)"
   ]
  },
  {
   "cell_type": "markdown",
   "id": "61d67976",
   "metadata": {},
   "source": [
    "# 10) Iteration over K\n",
    "We will write a function that takes the data matrix, a sample size, and a maximum number of clusters to consider (`maxK`).  The function should run `ensemble_run` for all values of `K` from 1 to `maxK`. It should return a numpy array of length `maxK` with the best case cost for each value of `K`. (6 pts)"
   ]
  },
  {
   "cell_type": "code",
   "execution_count": 42,
   "id": "afc7024c",
   "metadata": {},
   "outputs": [],
   "source": [
    "def K_iteration(X, ensemblesize, maxK):\n",
    "    allK = list(range(1, maxK + 1))\n",
    "    best_cost = np.empty(len(allK))\n",
    "    \n",
    "    for k in allK: \n",
    "        best_cost[k - 1] = ensemble_run(k, X, ensemblesize)['cost']\n",
    "    \n",
    "    return best_cost"
   ]
  },
  {
   "cell_type": "markdown",
   "id": "46bdd5ca",
   "metadata": {},
   "source": [
    "# 11) Selecting K\n",
    "\n",
    "We now run `K_iteration` with `ensemblesize=200`, `maxK=10` and plot the result. The plot shows the percent improvement of each `K` over `K-1`. From this plot, choose an ideal value for `K` and report it in the results dictionary as `Kideal`. "
   ]
  },
  {
   "cell_type": "code",
   "execution_count": 43,
   "id": "2ea62719",
   "metadata": {},
   "outputs": [
    {
     "data": {
      "image/png": "[encoded data removed]",
      "text/plain": [
       "<Figure size 576x360 with 1 Axes>"
      ]
     },
     "metadata": {
      "needs_background": "light"
     },
     "output_type": "display_data"
    }
   ],
   "source": [
    "ensemblesize = 200\n",
    "maxK = 10\n",
    "best_cost = K_iteration(X, ensemblesize, maxK)\n",
    "\n",
    "fig11 = plt.figure(figsize = (8,5))\n",
    "allK = list(range(1, maxK + 1))\n",
    "\n",
    "plt.plot(allK[1:], 100 * np.abs(np.diff(best_cost)) / best_cost[:-1],\n",
    "         linewidth=3,\n",
    "         marker='o',\n",
    "         markersize=8)\n",
    "\n",
    "plt.grid()\n",
    "plt.xticks(fontsize=16)\n",
    "plt.yticks(fontsize=16)\n",
    "plt.ylabel(r'$\\frac {|J_{K}^{\\star}-J_{K-1}^{\\star}|} {J_{K-1}^{\\star}}$', fontsize = 30)\n",
    "plt.xlabel('K', fontsize = 20)\n",
    "plt.show()"
   ]
  },
  {
   "cell_type": "code",
   "execution_count": 45,
   "id": "cb3be597",
   "metadata": {},
   "outputs": [],
   "source": [
    "Kideal = 4"
   ]
  },
  {
   "cell_type": "code",
   "execution_count": 47,
   "id": "fca282c2",
   "metadata": {},
   "outputs": [],
   "source": [
    "result['fig11'] = fig11\n",
    "result['Kideal'] = Kideal"
   ]
  }
 ],
 "metadata": {
  "kernelspec": {
   "display_name": "Python 3 (ipykernel)",
   "language": "python",
   "name": "python3"
  },
  "language_info": {
   "codemirror_mode": {
    "name": "ipython",
    "version": 3
   },
   "file_extension": ".py",
   "mimetype": "text/x-python",
   "name": "python",
   "nbconvert_exporter": "python",
   "pygments_lexer": "ipython3",
   "version": "3.9.10"
  }
 },
 "nbformat": 4,
 "nbformat_minor": 5
}
